{
  "nbformat": 4,
  "nbformat_minor": 0,
  "metadata": {
    "colab": {
      "provenance": []
    },
    "kernelspec": {
      "name": "python3",
      "display_name": "Python 3"
    },
    "language_info": {
      "name": "python"
    }
  },
  "cells": [
    {
      "cell_type": "markdown",
      "source": [
        "Below is a code to find the the Pearson Correlation for 3 given dataset. We use the 'np.corrcoef' function provided in the numpy library. This produces the relevant correlation coefficients and are extracted from the correlation matrix using their index."
      ],
      "metadata": {
        "id": "BGp-f2B3pCzo"
      }
    },
    {
      "cell_type": "code",
      "execution_count": 22,
      "metadata": {
        "colab": {
          "base_uri": "https://localhost:8080/"
        },
        "id": "QNzDtt7Hnwna",
        "outputId": "70b6d421-745b-4b19-fe75-0ed55e6f3de7"
      },
      "outputs": [
        {
          "output_type": "stream",
          "name": "stdout",
          "text": [
            "Correlation between x1 and x2: -0.9182390948504622\n",
            "Correlation between x1 and x3: -0.9436850342409099\n",
            "Correlation between x2 and x3: 0.8886744866475456\n"
          ]
        }
      ],
      "source": [
        "import numpy as np\n",
        "\n",
        "# Given data\n",
        "x1 = np.array([12, 8, 9, 9, 11, 9, 8, 11, 10, 11])\n",
        "x2 = np.array([4, 7, 5, 6, 4, 6, 7, 5, 5, 4])\n",
        "x3 = np.array([1, 4, 3, 3, 1, 2, 4, 1, 2, 1])\n",
        "\n",
        "\n",
        "cor_x1_x2 = np.corrcoef(x1, x2)[0, 1]\n",
        "cor_x1_x3 = np.corrcoef(x1, x3)[0, 1]\n",
        "cor_x2_x3 = np.corrcoef(x2, x3)[0, 1]\n",
        "\n",
        "print(\"Correlation between x1 and x2:\", cor_x1_x2)\n",
        "print(\"Correlation between x1 and x3:\", cor_x1_x3)\n",
        "print(\"Correlation between x2 and x3:\", cor_x2_x3)\n"
      ]
    },
    {
      "cell_type": "code",
      "source": [
        "\n",
        "x1 = np.array([12, 8, 9, 9, 11, 9, 8, 11, 10, 11])\n",
        "x2 = np.array([4, 7, 5, 6, 4, 6, 7, 5, 5, 4])\n",
        "x3 = np.array([1, 4, 3, 3, 1, 2, 4, 1, 2, 1])\n",
        "\n",
        "\n",
        "ranked_x1 = rankdata(x1)\n",
        "ranked_x2 = rankdata(x2)\n",
        "ranked_x3 = rankdata(x3)\n",
        "\n",
        "\n",
        "print(\"Ranked version of x1:\", ranked_x1)\n",
        "print(\"Ranked version of x2:\", ranked_x2)\n",
        "print(\"Ranked version of x3:\", ranked_x3)\n"
      ],
      "metadata": {
        "colab": {
          "base_uri": "https://localhost:8080/"
        },
        "id": "o7LjmJKIqi-M",
        "outputId": "aa481477-8bd3-4c89-9266-63e15fae822b"
      },
      "execution_count": 29,
      "outputs": [
        {
          "output_type": "stream",
          "name": "stdout",
          "text": [
            "Ranked version of x1: [10.   1.5  4.   4.   8.   4.   1.5  8.   6.   8. ]\n",
            "Ranked version of x2: [2.  9.5 5.  7.5 2.  7.5 9.5 5.  5.  2. ]\n",
            "Ranked version of x3: [2.5 9.5 7.5 7.5 2.5 5.5 9.5 2.5 5.5 2.5]\n"
          ]
        }
      ]
    },
    {
      "cell_type": "markdown",
      "source": [
        "## **Below is the method without using the 'rankdata' function. This is called hardcoding :)**"
      ],
      "metadata": {
        "id": "LvTsHv_9Qg0A"
      }
    },
    {
      "cell_type": "code",
      "source": [
        "import numpy as np\n",
        "\n",
        "x1 = np.array([12, 8, 9, 9, 11, 9, 8, 11, 10, 11])\n",
        "x2 = np.array([4, 7, 5, 6, 4, 6, 7, 5, 5, 4])\n",
        "x3 = np.array([1, 4, 3, 3, 1, 2, 4, 1, 2, 1])\n",
        "\n",
        "\n",
        "def calculate_average_ranks(arr):\n",
        "    ranked_array = np.empty_like(arr, dtype=float)\n",
        "    sorted_indices = np.argsort(arr)\n",
        "    group_count = 1\n",
        "    current_rank_sum = 1\n",
        "\n",
        "    for i in range(1, len(sorted_indices)):\n",
        "        if arr[sorted_indices[i]] == arr[sorted_indices[i - 1]]:\n",
        "            group_count += 1\n",
        "            current_rank_sum += i + 1\n",
        "        else:\n",
        "            average_rank = round(current_rank_sum / group_count)\n",
        "            for j in range(i - group_count, i):\n",
        "                ranked_array[sorted_indices[j]] = average_rank\n",
        "            group_count = 1\n",
        "            current_rank_sum = i + 1\n",
        "\n",
        "\n",
        "    if group_count > 1:\n",
        "        average_rank = round(current_rank_sum / group_count)\n",
        "        for j in range(len(sorted_indices) - group_count, len(sorted_indices)):\n",
        "            ranked_array[sorted_indices[j]] = average_rank\n",
        "    else:\n",
        "        ranked_array[sorted_indices[-1]] = len(sorted_indices)\n",
        "\n",
        "    return ranked_array\n",
        "\n",
        "\n",
        "rank_x1 = calculate_average_ranks(x1)\n",
        "rank_x2 = calculate_average_ranks(x2)\n",
        "rank_x3 = calculate_average_ranks(x3)\n",
        "\n",
        "\n",
        "print(\"Average Ranks for x1:\", rank_x1)\n",
        "print(\"Average Ranks for x2:\", rank_x2)\n",
        "print(\"Average Ranks for x3:\", rank_x3)\n"
      ],
      "metadata": {
        "colab": {
          "base_uri": "https://localhost:8080/"
        },
        "id": "fMekitaKPfij",
        "outputId": "7bab51a6-9a04-42f7-aea6-b6cb2dd46605"
      },
      "execution_count": 34,
      "outputs": [
        {
          "output_type": "stream",
          "name": "stdout",
          "text": [
            "Average Ranks for x1: [10.  2.  4.  4.  8.  4.  2.  8.  6.  8.]\n",
            "Average Ranks for x2: [ 2. 10.  5.  8.  2.  8. 10.  5.  5.  2.]\n",
            "Average Ranks for x3: [ 2. 10.  8.  8.  2.  6. 10.  2.  6.  2.]\n"
          ]
        }
      ]
    },
    {
      "cell_type": "code",
      "source": [
        "\n",
        "pearson_x1_x2 = np.corrcoef(x1, x2)[0, 1]\n",
        "pearson_x1_x3 = np.corrcoef(x1, x3)[0, 1]\n",
        "pearson_x2_x3 = np.corrcoef(x2, x3)[0, 1]\n",
        "\n",
        "spearman_x1_x2, _ = spearmanr(x1, x2)\n",
        "spearman_x1_x3, _ = spearmanr(x1, x3)\n",
        "spearman_x2_x3, _ = spearmanr(x2, x3)\n",
        "\n",
        "\n",
        "print(\"Pearson correlation between x1 and x2:\", pearson_x1_x2)\n",
        "print(\"Pearson correlation between x1 and x3:\", pearson_x1_x3)\n",
        "print(\"Pearson correlation between x2 and x3:\", pearson_x2_x3)\n",
        "\n",
        "print(\"\\nSpearman correlation between x1 and x2:\", spearman_x1_x2)\n",
        "print(\"Spearman correlation between x1 and x3:\", spearman_x1_x3)\n",
        "print(\"Spearman correlation between x2 and x3:\", spearman_x2_x3)\n"
      ],
      "metadata": {
        "colab": {
          "base_uri": "https://localhost:8080/"
        },
        "id": "HoeTcN26H_Fv",
        "outputId": "6746ac8a-267f-4b79-c8d0-d51a3556d91b"
      },
      "execution_count": 24,
      "outputs": [
        {
          "output_type": "stream",
          "name": "stdout",
          "text": [
            "Pearson correlation between x1 and x2: -0.9182390948504622\n",
            "Pearson correlation between x1 and x3: -0.9436850342409099\n",
            "Pearson correlation between x2 and x3: 0.8886744866475456\n",
            "\n",
            "Spearman correlation between x1 and x2: -0.9260498033115712\n",
            "Spearman correlation between x1 and x3: -0.9611200169123425\n",
            "Spearman correlation between x2 and x3: 0.886035790896973\n"
          ]
        }
      ]
    },
    {
      "cell_type": "code",
      "source": [
        "data_matrix = np.vstack((x1, x2, x3))\n",
        "\n",
        "covariance_matrix = np.cov(data_matrix)\n",
        "\n",
        "print(\"Covariance Matrix:\")\n",
        "print(covariance_matrix)\n"
      ],
      "metadata": {
        "colab": {
          "base_uri": "https://localhost:8080/"
        },
        "id": "S_ss19O1IK_j",
        "outputId": "98fbc1b4-c7cc-4f86-c3d3-70477919cded"
      },
      "execution_count": 25,
      "outputs": [
        {
          "output_type": "stream",
          "name": "stdout",
          "text": [
            "Covariance Matrix:\n",
            "[[ 1.95555556 -1.48888889 -1.62222222]\n",
            " [-1.48888889  1.34444444  1.26666667]\n",
            " [-1.62222222  1.26666667  1.51111111]]\n"
          ]
        }
      ]
    },
    {
      "cell_type": "code",
      "source": [
        "cov_matrix = np.array([[1.0, 0.8], [0.8, 1.0]])\n",
        "\n",
        "# We now use the numpy's library of modules and take the module 'eig' specificlay to calculate the eigen values and eigen vectors\n",
        "eigenvalues, eigenvectors = np.linalg.eig(cov_matrix)\n",
        "# The above code stores the eigen value and the eigen vector to the two variables respectively\n",
        "\n",
        "print(\"Eigenvalues:\")\n",
        "print(eigenvalues)\n",
        "\n",
        "print(\"\\nEigenvectors:\")\n",
        "print(eigenvectors)"
      ],
      "metadata": {
        "colab": {
          "base_uri": "https://localhost:8080/"
        },
        "id": "D_t8MP7YJIAi",
        "outputId": "b7d30bf2-b74b-4494-e88b-85f7cbb100b6"
      },
      "execution_count": 36,
      "outputs": [
        {
          "output_type": "stream",
          "name": "stdout",
          "text": [
            "Eigenvalues:\n",
            "[1.8 0.2]\n",
            "\n",
            "Eigenvectors:\n",
            "[[ 0.70710678 -0.70710678]\n",
            " [ 0.70710678  0.70710678]]\n"
          ]
        }
      ]
    },
    {
      "cell_type": "markdown",
      "source": [
        "The dataset is represented by arrays x1 and x2. After constructing the data matrix and calculating its covariance matrix, the eigenvectors of the covariance matrix, which represent the principal directions of maximum variance in the data, are obtained. These eigenvectors are then scaled for better visualization and plotted as red arrows on the scatter plot, starting from the mean of the data. The resulting plot provides insights into the primary directions of variability in the dataset."
      ],
      "metadata": {
        "id": "9GB5T0jpTcui"
      }
    },
    {
      "cell_type": "code",
      "source": [
        "import matplotlib.pyplot as plt\n",
        "\n",
        "\n",
        "x1 = np.array([1, 2, 3, 4, 5])\n",
        "x2 = np.array([3, 2, 4, 5, 6])\n",
        "\n",
        "\n",
        "plt.scatter(x1, x2, label='Data Points')\n",
        "\n",
        "# We now construct the data matrix by stacking variables vertically and transpose them\n",
        "data = np.vstack((x1, x2)).T\n",
        "\n",
        "# calculating the covariance nwo\n",
        "cov_matrix = np.cov(data, rowvar=False)\n",
        "\n",
        "# We now throw away eigenvalues as we no longer use them\n",
        "_, principal_vectors = np.linalg.eig(cov_matrix)\n",
        "\n",
        "\n",
        "scale_factor = 2\n",
        "scaled_principal_vectors = principal_vectors * scale_factor\n",
        "\n",
        "# We use the quiver plot is used to visually represent the principal vectors (eigenvectors) as arrows on the scatter plot, illustrating the directions of maximum variance in the two-dimensional dataset.\n",
        "origin = np.mean(data, axis=0)\n",
        "for vector in scaled_principal_vectors.T:\n",
        "    plt.quiver(*origin, *vector, color='red', scale=1, scale_units='xy', angles='xy')\n",
        "\n",
        "\n",
        "plt.xlabel('x1')\n",
        "plt.ylabel('x2')\n",
        "plt.title('Scatter Plot with Principal Vectors')\n",
        "plt.legend()\n",
        "\n",
        "\n",
        "plt.grid(True)\n",
        "plt.show()"
      ],
      "metadata": {
        "colab": {
          "base_uri": "https://localhost:8080/",
          "height": 472
        },
        "id": "LX2TQnRFKHmX",
        "outputId": "20db9c32-b1f7-4dfa-fa8c-e6ce1ed96c35"
      },
      "execution_count": 28,
      "outputs": [
        {
          "output_type": "display_data",
          "data": {
            "text/plain": [
              "<Figure size 640x480 with 1 Axes>"
            ],
            "image/png": "[encoded data removed]"
          },
          "metadata": {}
        }
      ]
    }
  ]
}